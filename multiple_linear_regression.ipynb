{
  "nbformat": 4,
  "nbformat_minor": 0,
  "metadata": {
    "colab": {
      "provenance": [],
      "authorship_tag": "ABX9TyMw6iA4fgLKKrgk/YlnGpFH",
      "include_colab_link": true
    },
    "kernelspec": {
      "name": "python3",
      "display_name": "Python 3"
    },
    "language_info": {
      "name": "python"
    }
  },
  "cells": [
    {
      "cell_type": "markdown",
      "metadata": {
        "id": "view-in-github",
        "colab_type": "text"
      },
      "source": [
        "<a href=\"https://colab.research.google.com/github/vjkr/Multiple-Linear-Regression_vjkr/blob/master/multiple_linear_regression.ipynb\" target=\"_parent\"><img src=\"https://colab.research.google.com/assets/colab-badge.svg\" alt=\"Open In Colab\"/></a>"
      ]
    },
    {
      "cell_type": "code",
      "execution_count": 1,
      "metadata": {
        "colab": {
          "base_uri": "https://localhost:8080/"
        },
        "id": "JW9ZN5yRIHQT",
        "outputId": "d8daa5d6-ed59-494a-fcf1-8e2373e22dc3"
      },
      "outputs": [
        {
          "output_type": "stream",
          "name": "stdout",
          "text": [
            "Cloning into 'Multiple-Linear-Regression_vjkr'...\n",
            "remote: Enumerating objects: 7, done.\u001b[K\n",
            "remote: Total 7 (delta 0), reused 0 (delta 0), pack-reused 7\u001b[K\n",
            "Receiving objects: 100% (7/7), done.\n"
          ]
        }
      ],
      "source": [
        "!git clone https://github.com/vjkr/Multiple-Linear-Regression_vjkr.git"
      ]
    },
    {
      "cell_type": "code",
      "source": [
        "# Multiple Linear Regression\n",
        "\n",
        "# Importing the libraries\n",
        "import numpy as np\n",
        "import matplotlib.pyplot as plt\n",
        "import pandas as pd\n",
        "\n",
        "# Importing the dataset\n",
        "dataset = pd.read_csv('/content/Multiple-Linear-Regression_vjkr/50_Startups.csv')\n",
        "X = dataset.iloc[:, :-1]\n",
        "y = dataset.iloc[:, 4]\n",
        "\n",
        "#Convert the column into categorical columns\n",
        "\n",
        "states=pd.get_dummies(X['State'],drop_first=True)\n",
        "\n",
        "# Drop the state coulmn\n",
        "X=X.drop('State',axis=1)\n",
        "\n",
        "# concat the dummy variables\n",
        "X=pd.concat([X,states],axis=1)\n",
        "\n",
        "\n",
        "\n",
        "# Splitting the dataset into the Training set and Test set\n",
        "from sklearn.model_selection import train_test_split\n",
        "X_train, X_test, y_train, y_test = train_test_split(X, y, test_size = 0.2, random_state = 0)\n",
        "\n",
        "# Fitting Multiple Linear Regression to the Training set\n",
        "from sklearn.linear_model import LinearRegression\n",
        "regressor = LinearRegression()\n",
        "regressor.fit(X_train, y_train)\n",
        "\n",
        "# Predicting the Test set results\n",
        "y_pred = regressor.predict(X_test)\n",
        "\n",
        "from sklearn.metrics import r2_score\n",
        "score=r2_score(y_test,y_pred)"
      ],
      "metadata": {
        "id": "l8ngN3ocINTj"
      },
      "execution_count": 2,
      "outputs": []
    },
    {
      "cell_type": "code",
      "source": [
        "print(score)"
      ],
      "metadata": {
        "colab": {
          "base_uri": "https://localhost:8080/"
        },
        "id": "2xfhLxfzIUfo",
        "outputId": "e8c63999-eed0-4a1b-9106-7c8f6c8a168f"
      },
      "execution_count": 3,
      "outputs": [
        {
          "output_type": "stream",
          "name": "stdout",
          "text": [
            "0.9347068473282423\n"
          ]
        }
      ]
    },
    {
      "cell_type": "code",
      "source": [
        "print(y_pred)"
      ],
      "metadata": {
        "colab": {
          "base_uri": "https://localhost:8080/"
        },
        "id": "HRpzo16pIXVl",
        "outputId": "96b2b638-8844-4c8c-8e76-80f48f2c7bcd"
      },
      "execution_count": 4,
      "outputs": [
        {
          "output_type": "stream",
          "name": "stdout",
          "text": [
            "[103015.20159796 132582.27760816 132447.73845174  71976.09851258\n",
            " 178537.48221055 116161.24230165  67851.69209676  98791.73374687\n",
            " 113969.43533012 167921.0656955 ]\n"
          ]
        }
      ]
    },
    {
      "cell_type": "code",
      "source": [
        "import requests\n",
        "res = requests.get('http://forecast.weather.gov/MapClick.php?lat=42.88644715000049&lon=-78.87836706299964#.WJXaS9J94s4')\n",
        "res.raise_for_status()\n",
        "playFile = open('weat.htm', 'wb')\n",
        "for chunk in res.iter_content(100000):\n",
        "    playFile.write(chunk)\n",
        "playFile.close()\n",
        "import bs4\n",
        "exampleFile = open('weat.htm')\n",
        "exampleSoup = bs4.BeautifulSoup(exampleFile.read())\n",
        "soup = bs4.BeautifulSoup(open('weat.htm'))\n",
        "pElem = soup.select('p')\n",
        "print('BUFFALO TODAY\\n')\n",
        "print('BUFFALO TODAY\\n')\n",
        "print('BUFFALO TODAY\\n')\n",
        "print('BUFFALO TODAY\\n')\n",
        "print('BUFFALO TODAY\\n')\n",
        "print('BUFFALO TODAY\\n')\n",
        "print('Collecting..\\n')\n",
        "print('BUFFALO TODAY\\n')\n",
        "#print('BUFFALO TODAY\\n')print('BUFFALO TODAY\\n')print('BUFFALO TODAY\\n')print('BUFFALO TODAY\\n')\n",
        "print('Collecting...\\n')\n",
        "print('BUFFALO TODAY\\n')\n",
        "#print('BUFFALO TODAY\\n')print('BUFFALO TODAY\\n')print('BUFFALO TODAY\\n')print('BUFFALO TODAY\\n')\n",
        "print('Collecting......\\n')\n",
        "\n",
        "pElem[4].getText()\n",
        "print(pElem[4].getText(),end='\\n')\n",
        "pElem[5].getText()\n",
        "print(pElem[5].getText(),end='\\n')\n",
        "pElem[3].getText()\n",
        "#elem number by searching <\\p>!!\n",
        "print(pElem[3].getText(),end='\\n')\n",
        "#print('end')"
      ],
      "metadata": {
        "colab": {
          "base_uri": "https://localhost:8080/"
        },
        "id": "XpKtHUpoIZyJ",
        "outputId": "7881056b-f104-415c-af20-4db7509041a7"
      },
      "execution_count": 8,
      "outputs": [
        {
          "output_type": "stream",
          "name": "stdout",
          "text": [
            "BUFFALO TODAY\n",
            "\n",
            "BUFFALO TODAY\n",
            "\n",
            "BUFFALO TODAY\n",
            "\n",
            "BUFFALO TODAY\n",
            "\n",
            "BUFFALO TODAY\n",
            "\n",
            "BUFFALO TODAY\n",
            "\n",
            "Collecting..\n",
            "\n",
            "BUFFALO TODAY\n",
            "\n",
            "Collecting...\n",
            "\n",
            "BUFFALO TODAY\n",
            "\n",
            "Collecting......\n",
            "\n",
            "27°F\n",
            "-3°C\n",
            " Light Snow\n"
          ]
        }
      ]
    },
    {
      "cell_type": "code",
      "source": [],
      "metadata": {
        "id": "kRuOXfe9Im_u"
      },
      "execution_count": null,
      "outputs": []
    }
  ]
}